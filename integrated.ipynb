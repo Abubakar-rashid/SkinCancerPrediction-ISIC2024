{
 "cells": [
  {
   "cell_type": "markdown",
   "id": "e2bcfed3",
   "metadata": {
    "_cell_guid": "b1076dfc-b9ad-4769-8c92-a6c4dae69d19",
    "_uuid": "8f2839f25d086af736a60e9eeb907d3b93b6e0e5",
    "papermill": {
     "duration": 0.004901,
     "end_time": "2024-08-25T18:16:25.527969",
     "exception": false,
     "start_time": "2024-08-25T18:16:25.523068",
     "status": "completed"
    },
    "tags": []
   },
   "source": [
    "### Model_loading\n",
    "---"
   ]
  },
  {
   "cell_type": "code",
   "execution_count": 1,
   "id": "ec2195ea",
   "metadata": {
    "execution": {
     "iopub.execute_input": "2024-08-25T18:16:25.537134Z",
     "iopub.status.busy": "2024-08-25T18:16:25.536318Z",
     "iopub.status.idle": "2024-08-25T18:16:40.074471Z",
     "shell.execute_reply": "2024-08-25T18:16:40.073692Z"
    },
    "papermill": {
     "duration": 14.545044,
     "end_time": "2024-08-25T18:16:40.076778",
     "exception": false,
     "start_time": "2024-08-25T18:16:25.531734",
     "status": "completed"
    },
    "tags": []
   },
   "outputs": [],
   "source": [
    "from tensorflow.keras.models import load_model\n",
    "import h5py\n",
    "import pandas as pd\n",
    "import numpy as np\n",
    "import io\n",
    "from PIL import Image"
   ]
  },
  {
   "cell_type": "code",
   "execution_count": 2,
   "id": "2ec566c8",
   "metadata": {
    "execution": {
     "iopub.execute_input": "2024-08-25T18:16:40.085539Z",
     "iopub.status.busy": "2024-08-25T18:16:40.084727Z",
     "iopub.status.idle": "2024-08-25T18:17:30.697357Z",
     "shell.execute_reply": "2024-08-25T18:17:30.696555Z"
    },
    "papermill": {
     "duration": 50.619293,
     "end_time": "2024-08-25T18:17:30.699668",
     "exception": false,
     "start_time": "2024-08-25T18:16:40.080375",
     "status": "completed"
    },
    "tags": []
   },
   "outputs": [],
   "source": [
    "DenseNet_model = load_model(\"/kaggle/input/skincancer_classification/keras/default/1/model_densenet.keras\")\n",
    "ResNet_model = load_model(\"/kaggle/input/skincancer_classification/keras/default/1/model_resnet.keras\")\n",
    "Xception_model = load_model(\"/kaggle/input/skincancer_classification/keras/default/1/model_xception.keras\")"
   ]
  },
  {
   "cell_type": "code",
   "execution_count": 3,
   "id": "420dcf6f",
   "metadata": {
    "execution": {
     "iopub.execute_input": "2024-08-25T18:17:30.708113Z",
     "iopub.status.busy": "2024-08-25T18:17:30.707768Z",
     "iopub.status.idle": "2024-08-25T18:17:30.715265Z",
     "shell.execute_reply": "2024-08-25T18:17:30.714390Z"
    },
    "papermill": {
     "duration": 0.013777,
     "end_time": "2024-08-25T18:17:30.717217",
     "exception": false,
     "start_time": "2024-08-25T18:17:30.703440",
     "status": "completed"
    },
    "tags": []
   },
   "outputs": [],
   "source": [
    "dataset = h5py.File(\"/kaggle/input/isic-2024-challenge/test-image.hdf5\",\"r\")"
   ]
  },
  {
   "cell_type": "code",
   "execution_count": 4,
   "id": "32b8e166",
   "metadata": {
    "execution": {
     "iopub.execute_input": "2024-08-25T18:17:30.725528Z",
     "iopub.status.busy": "2024-08-25T18:17:30.724762Z",
     "iopub.status.idle": "2024-08-25T18:17:30.732559Z",
     "shell.execute_reply": "2024-08-25T18:17:30.731723Z"
    },
    "papermill": {
     "duration": 0.014005,
     "end_time": "2024-08-25T18:17:30.734560",
     "exception": false,
     "start_time": "2024-08-25T18:17:30.720555",
     "status": "completed"
    },
    "tags": []
   },
   "outputs": [],
   "source": [
    "def preprocess_image(image, crop_width, crop_height):\n",
    "    img_plt = Image.open(io.BytesIO(np.array(image)))\n",
    "\n",
    "    width, height = img_plt.size\n",
    "    left = (width - crop_width) / 2\n",
    "    top = (height - crop_height) / 2\n",
    "    right = (width + crop_width) / 2\n",
    "    bottom = (height + crop_height) / 2\n",
    "    img_cropped = img_plt.crop((left, top, right, bottom))\n",
    " \n",
    "    return img_cropped\n",
    "\n",
    "\n",
    "def data_gen_test(test_set, batch_size, crop_width=90, crop_height=90):\n",
    "    keys = list(test_set.keys())\n",
    "    for i in range(0, len(keys), batch_size):\n",
    "        batch_keys = keys[i:i + batch_size]\n",
    "        test_data = []\n",
    "        for j in batch_keys:\n",
    "            img_array = preprocess_image(test_set[j], crop_width, crop_height)\n",
    "            test_data.append(img_array)\n",
    "            print(j)\n",
    "        yield np.array(test_data)\n"
   ]
  },
  {
   "cell_type": "code",
   "execution_count": 5,
   "id": "18880607",
   "metadata": {
    "execution": {
     "iopub.execute_input": "2024-08-25T18:17:30.742325Z",
     "iopub.status.busy": "2024-08-25T18:17:30.742036Z",
     "iopub.status.idle": "2024-08-25T18:17:43.457394Z",
     "shell.execute_reply": "2024-08-25T18:17:43.456399Z"
    },
    "papermill": {
     "duration": 12.721596,
     "end_time": "2024-08-25T18:17:43.459512",
     "exception": false,
     "start_time": "2024-08-25T18:17:30.737916",
     "status": "completed"
    },
    "tags": []
   },
   "outputs": [
    {
     "name": "stdout",
     "output_type": "stream",
     "text": [
      "ISIC_0015657\n",
      "ISIC_0015729\n",
      "ISIC_0015740\n",
      "(3, 90, 90, 3)\n",
      "\u001b[1m1/1\u001b[0m \u001b[32m━━━━━━━━━━━━━━━━━━━━\u001b[0m\u001b[37m\u001b[0m \u001b[1m9s\u001b[0m 9s/step\n",
      "\u001b[1m1/1\u001b[0m \u001b[32m━━━━━━━━━━━━━━━━━━━━\u001b[0m\u001b[37m\u001b[0m \u001b[1m2s\u001b[0m 2s/step\n",
      "\u001b[1m1/1\u001b[0m \u001b[32m━━━━━━━━━━━━━━━━━━━━\u001b[0m\u001b[37m\u001b[0m \u001b[1m1s\u001b[0m 1s/step\n",
      "(3, 1)\n"
     ]
    }
   ],
   "source": [
    "predictions_a = []\n",
    "predictions_b = []\n",
    "predictions_c = []\n",
    "\n",
    "for test_batch in data_gen_test(dataset, batch_size=10000):\n",
    "    \n",
    "    print(test_batch.shape)   \n",
    "    batch_predictions_1 = DenseNet_model.predict(test_batch)\n",
    "    batch_predictions_2 = ResNet_model.predict(test_batch)\n",
    "    batch_predictions_3 = Xception_model.predict(test_batch)\n",
    "    print(batch_predictions_1.shape)\n",
    "    \n",
    "    predictions_a.extend(batch_predictions_1.ravel())\n",
    "    predictions_b.extend(batch_predictions_2.ravel())\n",
    "    predictions_c.extend(batch_predictions_3.ravel())\n",
    "    "
   ]
  },
  {
   "cell_type": "code",
   "execution_count": 6,
   "id": "106402b2",
   "metadata": {
    "execution": {
     "iopub.execute_input": "2024-08-25T18:17:43.469055Z",
     "iopub.status.busy": "2024-08-25T18:17:43.468721Z",
     "iopub.status.idle": "2024-08-25T18:17:43.472994Z",
     "shell.execute_reply": "2024-08-25T18:17:43.472217Z"
    },
    "papermill": {
     "duration": 0.01127,
     "end_time": "2024-08-25T18:17:43.474910",
     "exception": false,
     "start_time": "2024-08-25T18:17:43.463640",
     "status": "completed"
    },
    "tags": []
   },
   "outputs": [],
   "source": [
    "x = np.array(predictions_a)\n",
    "y = np.array(predictions_b)\n",
    "z = np.array(predictions_c)"
   ]
  },
  {
   "cell_type": "code",
   "execution_count": 7,
   "id": "f3969b41",
   "metadata": {
    "execution": {
     "iopub.execute_input": "2024-08-25T18:17:43.483730Z",
     "iopub.status.busy": "2024-08-25T18:17:43.483441Z",
     "iopub.status.idle": "2024-08-25T18:17:43.487341Z",
     "shell.execute_reply": "2024-08-25T18:17:43.486543Z"
    },
    "papermill": {
     "duration": 0.01035,
     "end_time": "2024-08-25T18:17:43.489137",
     "exception": false,
     "start_time": "2024-08-25T18:17:43.478787",
     "status": "completed"
    },
    "tags": []
   },
   "outputs": [],
   "source": [
    "final_pred = (x+y+z)/3\n"
   ]
  },
  {
   "cell_type": "code",
   "execution_count": 8,
   "id": "4c1f31a4",
   "metadata": {
    "execution": {
     "iopub.execute_input": "2024-08-25T18:17:43.498436Z",
     "iopub.status.busy": "2024-08-25T18:17:43.498148Z",
     "iopub.status.idle": "2024-08-25T18:17:43.510687Z",
     "shell.execute_reply": "2024-08-25T18:17:43.510045Z"
    },
    "papermill": {
     "duration": 0.019479,
     "end_time": "2024-08-25T18:17:43.512521",
     "exception": false,
     "start_time": "2024-08-25T18:17:43.493042",
     "status": "completed"
    },
    "tags": []
   },
   "outputs": [],
   "source": [
    "submission = pd.DataFrame({  \n",
    "    \"isic_id\": list(dataset.keys()),  \n",
    "    \"target\": final_pred\n",
    "})  \n",
    "\n",
    "# Save the DataFrame to a CSV file without scientific notation  \n",
    "submission.to_csv(\"/kaggle/working/submission.csv\", index=False, float_format='%.7f') "
   ]
  },
  {
   "cell_type": "code",
   "execution_count": null,
   "id": "608e0f4d",
   "metadata": {
    "papermill": {
     "duration": 0.003835,
     "end_time": "2024-08-25T18:17:43.520275",
     "exception": false,
     "start_time": "2024-08-25T18:17:43.516440",
     "status": "completed"
    },
    "tags": []
   },
   "outputs": [],
   "source": []
  }
 ],
 "metadata": {
  "kaggle": {
   "accelerator": "nvidiaTeslaT4",
   "dataSources": [
    {
     "databundleVersionId": 9094797,
     "sourceId": 63056,
     "sourceType": "competition"
    },
    {
     "modelId": 109033,
     "modelInstanceId": 84799,
     "sourceId": 101135,
     "sourceType": "modelInstanceVersion"
    }
   ],
   "dockerImageVersionId": 30761,
   "isGpuEnabled": true,
   "isInternetEnabled": false,
   "language": "python",
   "sourceType": "notebook"
  },
  "kernelspec": {
   "display_name": "Python 3",
   "language": "python",
   "name": "python3"
  },
  "language_info": {
   "codemirror_mode": {
    "name": "ipython",
    "version": 3
   },
   "file_extension": ".py",
   "mimetype": "text/x-python",
   "name": "python",
   "nbconvert_exporter": "python",
   "pygments_lexer": "ipython3",
   "version": "3.10.14"
  },
  "papermill": {
   "default_parameters": {},
   "duration": 83.809022,
   "end_time": "2024-08-25T18:17:46.447128",
   "environment_variables": {},
   "exception": null,
   "input_path": "__notebook__.ipynb",
   "output_path": "__notebook__.ipynb",
   "parameters": {},
   "start_time": "2024-08-25T18:16:22.638106",
   "version": "2.6.0"
  }
 },
 "nbformat": 4,
 "nbformat_minor": 5
}
